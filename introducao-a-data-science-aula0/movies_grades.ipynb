{
  "cells": [
    {
      "cell_type": "markdown",
      "metadata": {
        "id": "aVXIP94WbkF8"
      },
      "source": [
        "# ANALISANDO NOTAS EM GERAL\n"
      ]
    },
    {
      "cell_type": "code",
      "execution_count": 3,
      "metadata": {
        "id": "c6ghC987uzw_"
      },
      "outputs": [
        {
          "ename": "ModuleNotFoundError",
          "evalue": "No module named 'pandas'",
          "output_type": "error",
          "traceback": [
            "\u001b[1;31m---------------------------------------------------------------------------\u001b[0m",
            "\u001b[1;31mModuleNotFoundError\u001b[0m                       Traceback (most recent call last)",
            "Cell \u001b[1;32mIn[3], line 1\u001b[0m\n\u001b[1;32m----> 1\u001b[0m \u001b[39mimport\u001b[39;00m \u001b[39mpandas\u001b[39;00m \u001b[39mas\u001b[39;00m \u001b[39mpd\u001b[39;00m\n\u001b[0;32m      2\u001b[0m \u001b[39mimport\u001b[39;00m \u001b[39mnumpy\u001b[39;00m \u001b[39mas\u001b[39;00m \u001b[39mnp\u001b[39;00m\n\u001b[0;32m      3\u001b[0m \u001b[39mimport\u001b[39;00m \u001b[39mmatplotlib\u001b[39;00m\u001b[39m.\u001b[39;00m\u001b[39mpyplot\u001b[39;00m \u001b[39mas\u001b[39;00m \u001b[39mplt\u001b[39;00m\n",
            "\u001b[1;31mModuleNotFoundError\u001b[0m: No module named 'pandas'"
          ]
        }
      ],
      "source": [
        "import pandas as pd\n",
        "import numpy as np\n",
        "import matplotlib.pyplot as plt"
      ]
    },
    {
      "cell_type": "code",
      "execution_count": null,
      "metadata": {
        "colab": {
          "base_uri": "https://localhost:8080/",
          "height": 206
        },
        "id": "TTxKWAKw28x6",
        "outputId": "fb0ae024-3e6e-4bf0-a5ce-eb8cbd095d1c"
      },
      "outputs": [],
      "source": [
        "notas = pd.read_csv(\"ratings.csv\")\n",
        "notas.head()"
      ]
    },
    {
      "cell_type": "code",
      "execution_count": null,
      "metadata": {
        "colab": {
          "base_uri": "https://localhost:8080/",
          "height": 206
        },
        "id": "qSrmC6FH3FwH",
        "outputId": "cd10ee94-f8d4-4fad-8635-842c28484f2a"
      },
      "outputs": [],
      "source": [
        "notas.columns = [\"usuarioId\", \"filmeId\", \"nota\", \"momento\"]\n",
        "notas.head()\n"
      ]
    },
    {
      "cell_type": "code",
      "execution_count": null,
      "metadata": {
        "colab": {
          "base_uri": "https://localhost:8080/"
        },
        "id": "JtsAWJ273O64",
        "outputId": "a5c83f44-4558-43e1-e04a-691fb57106f6"
      },
      "outputs": [],
      "source": [
        "#notas['nota'].unique()\n",
        "#notas['nota'].value_counts()\n",
        "notas.nota.unique()\n",
        "notas.nota.value_counts()\n"
      ]
    },
    {
      "cell_type": "code",
      "execution_count": null,
      "metadata": {
        "colab": {
          "base_uri": "https://localhost:8080/"
        },
        "id": "najSHPW63g3W",
        "outputId": "1fca216e-1281-4f12-8df6-97e78088e114"
      },
      "outputs": [],
      "source": [
        "notas.shape\n"
      ]
    },
    {
      "cell_type": "code",
      "execution_count": null,
      "metadata": {
        "colab": {
          "base_uri": "https://localhost:8080/"
        },
        "id": "UCWt4_AA3h9D",
        "outputId": "898e8bb0-9a1d-426d-e4e1-854d96553dd8"
      },
      "outputs": [],
      "source": [
        "notas.nota.mean()\n"
      ]
    },
    {
      "cell_type": "code",
      "execution_count": null,
      "metadata": {
        "colab": {
          "base_uri": "https://localhost:8080/"
        },
        "id": "nxNDCf5u4TEM",
        "outputId": "21057c71-1cf9-4b22-a350-e7367317091f"
      },
      "outputs": [],
      "source": [
        "notas.nota.median()"
      ]
    },
    {
      "cell_type": "code",
      "execution_count": null,
      "metadata": {
        "colab": {
          "base_uri": "https://localhost:8080/",
          "height": 428
        },
        "id": "jggeK6ZlFLxD",
        "outputId": "85ff70a5-9706-4494-8a6e-049916f3dfec"
      },
      "outputs": [],
      "source": [
        "notas.nota.plot(kind='hist')\n",
        "notas.nota.describe()"
      ]
    },
    {
      "cell_type": "code",
      "execution_count": null,
      "metadata": {
        "id": "Boz6JsA9FbfS"
      },
      "outputs": [],
      "source": [
        "import seaborn as sns"
      ]
    },
    {
      "cell_type": "code",
      "execution_count": null,
      "metadata": {
        "colab": {
          "base_uri": "https://localhost:8080/",
          "height": 353
        },
        "id": "VJv3HaT9FdRY",
        "outputId": "dd106bde-309c-4000-b48d-59001f47f032"
      },
      "outputs": [],
      "source": [
        "sns.boxplot(notas.nota)"
      ]
    },
    {
      "cell_type": "markdown",
      "metadata": {
        "id": "Y8YjRCM1cDm8"
      },
      "source": [
        "# ANALISANDO NOTAS ESPECIFICAS POR FILME"
      ]
    },
    {
      "cell_type": "code",
      "execution_count": null,
      "metadata": {
        "colab": {
          "base_uri": "https://localhost:8080/",
          "height": 424
        },
        "id": "OlyVbFAEam0A",
        "outputId": "1b91b6e6-0536-436f-afa5-c69076eb8bc0"
      },
      "outputs": [],
      "source": [
        "notas.query(\"filmeId==1\")"
      ]
    },
    {
      "cell_type": "code",
      "execution_count": null,
      "metadata": {
        "colab": {
          "base_uri": "https://localhost:8080/"
        },
        "id": "pK9C8y7fa6qk",
        "outputId": "83d30db6-5bc7-461c-f963-3bab8132d6c2"
      },
      "outputs": [],
      "source": [
        "#notas.nota.query(\"filmeId==1\")nao funciona, nota tem que vir depois da query\n",
        "notas.query(\"filmeId==1\").nota"
      ]
    },
    {
      "cell_type": "code",
      "execution_count": null,
      "metadata": {
        "colab": {
          "base_uri": "https://localhost:8080/"
        },
        "id": "pbIfBKDFFe5A",
        "outputId": "14f5caba-eac5-4d68-c5aa-b67b947fc1b8"
      },
      "outputs": [],
      "source": [
        "# Consulta de notas com a media dos filmes com ID 1\n",
        "notas.query(\"filmeId==1\").nota.mean()"
      ]
    },
    {
      "cell_type": "code",
      "execution_count": null,
      "metadata": {
        "colab": {
          "base_uri": "https://localhost:8080/"
        },
        "id": "dJnnM5ClFnk7",
        "outputId": "d910c68b-0778-4a33-e06b-aa3806175b33"
      },
      "outputs": [],
      "source": [
        "# Consulta de notas com a media dos filmes com ID 1\n",
        "notas.query(\"filmeId==2\").nota.mean()"
      ]
    },
    {
      "cell_type": "code",
      "execution_count": null,
      "metadata": {
        "colab": {
          "base_uri": "https://localhost:8080/",
          "height": 206
        },
        "id": "9zRSxIatFpnp",
        "outputId": "31cf6dae-f09e-40fc-941c-c1fbde8a5084"
      },
      "outputs": [],
      "source": [
        "notas.head()"
      ]
    },
    {
      "cell_type": "code",
      "execution_count": null,
      "metadata": {
        "colab": {
          "base_uri": "https://localhost:8080/",
          "height": 455
        },
        "id": "fXFw2uwcFvQ7",
        "outputId": "657db430-20da-4495-eb91-d9a33a185cf5"
      },
      "outputs": [],
      "source": [
        "# a media por cada ID de filme, mas note que vai tirar a media de tudo, do usuario, da nota e do momento\n",
        "notas.groupby(\"filmeId\").mean()"
      ]
    },
    {
      "cell_type": "code",
      "execution_count": null,
      "metadata": {
        "colab": {
          "base_uri": "https://localhost:8080/"
        },
        "id": "iLbe1mO6gN3p",
        "outputId": "f0fdf6cd-4b91-4640-8577-5ad2baf5e08b"
      },
      "outputs": [],
      "source": [
        "notas.groupby(\"filmeId\").nota.mean()\n",
        "# notas.groupby(\"filmeId\").mean()[\"nota\"] tbm funciona como codigo"
      ]
    },
    {
      "cell_type": "code",
      "execution_count": null,
      "metadata": {
        "colab": {
          "base_uri": "https://localhost:8080/"
        },
        "id": "an0MxRqMh6BJ",
        "outputId": "45abd75e-33bf-44c5-ce6f-c10ce7b4ede5"
      },
      "outputs": [],
      "source": [
        "#guardando em uma variavel\n",
        "medias_por_filme =  notas.groupby(\"filmeId\").nota.mean()\n",
        "medias_por_filme.head()"
      ]
    },
    {
      "cell_type": "code",
      "execution_count": null,
      "metadata": {
        "colab": {
          "base_uri": "https://localhost:8080/",
          "height": 283
        },
        "id": "0Ix9RuzGiCbX",
        "outputId": "ec55a0a1-fad1-4966-ac24-ed1477c93de3"
      },
      "outputs": [],
      "source": [
        "medias_por_filme.plot(kind=\"hist\")"
      ]
    },
    {
      "cell_type": "code",
      "execution_count": null,
      "metadata": {
        "colab": {
          "base_uri": "https://localhost:8080/",
          "height": 353
        },
        "id": "A8iFWboOj1fp",
        "outputId": "6bbf8f6f-18a1-4031-92eb-80402e0dafb7"
      },
      "outputs": [],
      "source": [
        "#usando seaborn\n",
        "sns.boxplot(medias_por_filme)"
      ]
    },
    {
      "cell_type": "code",
      "execution_count": null,
      "metadata": {
        "colab": {
          "base_uri": "https://localhost:8080/"
        },
        "id": "DFspe5JMj80m",
        "outputId": "8573fda1-a948-4ff6-de3f-d47a081934d6"
      },
      "outputs": [],
      "source": [
        "medias_por_filme.describe()"
      ]
    },
    {
      "cell_type": "code",
      "execution_count": null,
      "metadata": {
        "colab": {
          "base_uri": "https://localhost:8080/",
          "height": 353
        },
        "id": "4mK2ncuPkHAT",
        "outputId": "51a3a4c6-24b7-40f4-9844-e3f340e39866"
      },
      "outputs": [],
      "source": [
        "#histograma no seaborn chama distplot\n",
        "sns.distplot(medias_por_filme)\n"
      ]
    },
    {
      "cell_type": "code",
      "execution_count": null,
      "metadata": {
        "colab": {
          "base_uri": "https://localhost:8080/",
          "height": 353
        },
        "id": "Y9QzVnjOkSAp",
        "outputId": "6cc279d2-6226-4387-b9c0-8eef0b9627b1"
      },
      "outputs": [],
      "source": [
        "sns.distplot(medias_por_filme, bins = 5)"
      ]
    },
    {
      "cell_type": "code",
      "execution_count": null,
      "metadata": {
        "colab": {
          "base_uri": "https://localhost:8080/",
          "height": 338
        },
        "id": "uE2Y8hv9kdNk",
        "outputId": "6d576c94-51f9-4759-8fa8-5f7a77f64a30"
      },
      "outputs": [],
      "source": [
        "#Matplotlib\n",
        "plt.hist(medias_por_filme)"
      ]
    },
    {
      "cell_type": "code",
      "execution_count": null,
      "metadata": {
        "colab": {
          "base_uri": "https://localhost:8080/",
          "height": 487
        },
        "id": "pLErg9qtkyQy",
        "outputId": "fb357f09-9736-4f28-aa31-aabb85113927"
      },
      "outputs": [],
      "source": [
        "plt.figure(figsize=(5,8))\n",
        "\n",
        "sns.boxplot(y=medias_por_filme)"
      ]
    }
  ],
  "metadata": {
    "colab": {
      "provenance": []
    },
    "kernelspec": {
      "display_name": "Python 3",
      "language": "python",
      "name": "python3"
    },
    "language_info": {
      "codemirror_mode": {
        "name": "ipython",
        "version": 3
      },
      "file_extension": ".py",
      "mimetype": "text/x-python",
      "name": "python",
      "nbconvert_exporter": "python",
      "pygments_lexer": "ipython3",
      "version": "3.11.0"
    },
    "vscode": {
      "interpreter": {
        "hash": "877aaf5a7d0c5928829c03b04083b9c9e01d4b737ade97a315e58b17ac675cf5"
      }
    }
  },
  "nbformat": 4,
  "nbformat_minor": 0
}
